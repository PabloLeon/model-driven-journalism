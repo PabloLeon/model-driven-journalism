{
 "cells": [
  {
   "cell_type": "code",
   "execution_count": 1,
   "metadata": {
    "collapsed": true
   },
   "outputs": [],
   "source": [
    "import numpy as np\n",
    "import matplotlib.pyplot as plt\n",
    "import csv \n",
    "\n",
    "\n",
    "%matplotlib inline"
   ]
  },
  {
   "cell_type": "code",
   "execution_count": 2,
   "metadata": {
    "scrolled": false
   },
   "outputs": [
    {
     "name": "stdout",
     "output_type": "stream",
     "text": [
      "median wait time: 0.8256\n"
     ]
    },
    {
     "data": {
      "image/png": "[encoded data removed]",
      "text/plain": [
       "<matplotlib.figure.Figure at 0x109866e50>"
      ]
     },
     "metadata": {},
     "output_type": "display_data"
    }
   ],
   "source": [
    "target = 'percenttreat_62days'\n",
    "cutoff = 0.85\n",
    "inputs = ['beds_day', 'beds_night', \n",
    "          '_Anaesthetics', '_Clinical_oncology', '_Emergency_Medicine', \n",
    "          '_General_medicine_group', '_Radiology_group', '_Surgical_group',\n",
    "          '_Nurse_HealthVisitors', '_Support_Clinical', '_Support_STT',\n",
    "          'ytd_plan', 'ytd_plan_miss', 'deficit']\n",
    "\n",
    "inputs.extend(['clinstaff_grade%d' % i for i in range(1,11)])\n",
    "\n",
    "X = []\n",
    "y = []\n",
    "raw_wait_pct = []\n",
    "\n",
    "with open('nhs_62daywait_1617q4.csv') as f:\n",
    "    for row in csv.DictReader(f):\n",
    "        raw_wait_pct.append(float(row[target]))\n",
    "        y.append(float(row[target]) >= cutoff)\n",
    "        X.append([float(row[col] or 0.0) for col in inputs])\n",
    "\n",
    "y = np.array(y)\n",
    "X = np.array(X)\n",
    "\n",
    "\n",
    "plt.hist(raw_wait_pct);\n",
    "print \"median wait time:\", np.median(raw_wait_pct)\n"
   ]
  },
  {
   "cell_type": "code",
   "execution_count": 3,
   "metadata": {},
   "outputs": [
    {
     "data": {
      "text/plain": [
       "LogisticRegression(C=1.0, class_weight=None, dual=False, fit_intercept=True,\n",
       "          intercept_scaling=1, max_iter=100, multi_class='ovr', n_jobs=1,\n",
       "          penalty='l2', random_state=None, solver='liblinear', tol=0.0001,\n",
       "          verbose=0, warm_start=False)"
      ]
     },
     "execution_count": 3,
     "metadata": {},
     "output_type": "execute_result"
    }
   ],
   "source": [
    "from sklearn.linear_model import RidgeClassifier, LogisticRegression\n",
    "\n",
    "model = LogisticRegression(penalty='l2')\n",
    "model.fit(X, y)"
   ]
  },
  {
   "cell_type": "code",
   "execution_count": 4,
   "metadata": {},
   "outputs": [
    {
     "name": "stdout",
     "output_type": "stream",
     "text": [
      "baseline accuracy (always guess 'made target'): 0.46080760095\n",
      "baseline accuracy (always guess 'missed target'): 0.53919239905\n",
      "model accuracy: 0.596199524941\n",
      "-> number of non-zero terms: 24\n"
     ]
    },
    {
     "data": {
      "text/plain": [
       "{'_Anaesthetics': -0.0037598535802690564,\n",
       " '_Clinical_oncology': -0.006582342056552477,\n",
       " '_Emergency_Medicine': 0.00599125495566846,\n",
       " '_General_medicine_group': 0.0037510415604663973,\n",
       " '_Nurse_HealthVisitors': -0.0006256481956659791,\n",
       " '_Radiology_group': 0.0055271684174136755,\n",
       " '_Support_Clinical': 0.0005411502423963392,\n",
       " '_Support_STT': 0.00010318070337518448,\n",
       " '_Surgical_group': 0.006643311138831733,\n",
       " 'beds_day': -0.0019497396242200598,\n",
       " 'beds_night': 0.0005653829040596452,\n",
       " 'clinstaff_grade1': -0.011506468832824829,\n",
       " 'clinstaff_grade10': 0.12517373552741998,\n",
       " 'clinstaff_grade2': -0.006353030496733641,\n",
       " 'clinstaff_grade3': -0.002252985900113592,\n",
       " 'clinstaff_grade4': -0.005989419808605788,\n",
       " 'clinstaff_grade5': 0.004080435083965688,\n",
       " 'clinstaff_grade6': 0.005384448400791513,\n",
       " 'clinstaff_grade7': 0.00040374418552773997,\n",
       " 'clinstaff_grade8': -0.007910001570130897,\n",
       " 'clinstaff_grade9': -0.05790076536203989,\n",
       " 'deficit': -0.3691792082065331,\n",
       " 'ytd_plan': -7.575053138007937e-07,\n",
       " 'ytd_plan_miss': -0.21529677558095772}"
      ]
     },
     "execution_count": 4,
     "metadata": {},
     "output_type": "execute_result"
    }
   ],
   "source": [
    "print \"baseline accuracy (always guess 'made target'):\", np.mean(1.0 == y)\n",
    "print \"baseline accuracy (always guess 'missed target'):\", np.mean(0.0 == y)\n",
    "print \"model accuracy:\", np.mean((model.predict(X) > 0.5) == y)\n",
    "print \"-> number of non-zero terms:\", np.sum(np.abs(model.coef_) > 0.0)\n",
    "\n",
    "dict(zip(inputs, model.coef_[0].tolist()))"
   ]
  },
  {
   "cell_type": "code",
   "execution_count": 5,
   "metadata": {},
   "outputs": [
    {
     "name": "stdout",
     "output_type": "stream",
     "text": [
      "baseline accuracy (always guess 'made target'): 0.46080760095\n",
      "baseline accuracy (always guess 'missed target'): 0.53919239905\n",
      "alternative (sparse) model accuracy: 0.536817102138\n",
      "-> number of non-zero terms: 3\n"
     ]
    },
    {
     "data": {
      "text/plain": [
       "{'_Anaesthetics': 0.0,\n",
       " '_Clinical_oncology': 0.0,\n",
       " '_Emergency_Medicine': 0.0,\n",
       " '_General_medicine_group': 0.0,\n",
       " '_Nurse_HealthVisitors': -0.00021448238330262832,\n",
       " '_Radiology_group': 0.0,\n",
       " '_Support_Clinical': 0.0,\n",
       " '_Support_STT': 0.0,\n",
       " '_Surgical_group': 0.0,\n",
       " 'beds_day': 0.0,\n",
       " 'beds_night': 0.0001489124698021603,\n",
       " 'clinstaff_grade1': 0.0,\n",
       " 'clinstaff_grade10': 0.0,\n",
       " 'clinstaff_grade2': 0.0,\n",
       " 'clinstaff_grade3': 0.0,\n",
       " 'clinstaff_grade4': 0.0,\n",
       " 'clinstaff_grade5': 0.0,\n",
       " 'clinstaff_grade6': 0.0,\n",
       " 'clinstaff_grade7': 0.0,\n",
       " 'clinstaff_grade8': 0.0,\n",
       " 'clinstaff_grade9': 0.0,\n",
       " 'deficit': 0.0,\n",
       " 'ytd_plan': -7.0738755049191e-07,\n",
       " 'ytd_plan_miss': 0.0}"
      ]
     },
     "execution_count": 5,
     "metadata": {},
     "output_type": "execute_result"
    }
   ],
   "source": [
    "model = LogisticRegression(penalty='l1', C=0.001)\n",
    "model.fit(X, y)\n",
    "\n",
    "print \"baseline accuracy (always guess 'made target'):\", np.mean(1.0 == y)\n",
    "print \"baseline accuracy (always guess 'missed target'):\", np.mean(0.0 == y)\n",
    "print \"alternative (sparse) model accuracy:\", np.mean((model.predict(X) > 0.5) == y)\n",
    "print \"-> number of non-zero terms:\", np.sum(np.abs(model.coef_) > 0.0)\n",
    "\n",
    "dict(zip(inputs, model.coef_[0].tolist()))"
   ]
  },
  {
   "cell_type": "markdown",
   "metadata": {},
   "source": [
    "## This is worse than a constant baseline."
   ]
  },
  {
   "cell_type": "code",
   "execution_count": null,
   "metadata": {
    "collapsed": true
   },
   "outputs": [],
   "source": []
  }
 ],
 "metadata": {
  "kernelspec": {
   "display_name": "Python 3",
   "language": "python",
   "name": "python3"
  },
  "language_info": {
   "codemirror_mode": {
    "name": "ipython",
    "version": 3
   },
   "file_extension": ".py",
   "mimetype": "text/x-python",
   "name": "python",
   "nbconvert_exporter": "python",
   "pygments_lexer": "ipython3",
   "version": "3.6.1"
  }
 },
 "nbformat": 4,
 "nbformat_minor": 2
}
