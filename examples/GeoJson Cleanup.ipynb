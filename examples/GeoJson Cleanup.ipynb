{
 "cells": [
  {
   "cell_type": "code",
   "execution_count": 1,
   "metadata": {
    "collapsed": true
   },
   "outputs": [],
   "source": [
    "%matplotlib inline"
   ]
  },
  {
   "cell_type": "code",
   "execution_count": 2,
   "metadata": {
    "collapsed": true
   },
   "outputs": [],
   "source": [
    "import pandas as pd\n",
    "import geopandas as gpd\n",
    "import numpy as np"
   ]
  },
  {
   "cell_type": "code",
   "execution_count": 18,
   "metadata": {},
   "outputs": [],
   "source": [
    "data = gpd.read_file('../public/ukMap/subunits.json')"
   ]
  },
  {
   "cell_type": "code",
   "execution_count": 19,
   "metadata": {},
   "outputs": [
    {
     "data": {
      "text/html": [
       "<div>\n",
       "<style>\n",
       "    .dataframe thead tr:only-child th {\n",
       "        text-align: right;\n",
       "    }\n",
       "\n",
       "    .dataframe thead th {\n",
       "        text-align: left;\n",
       "    }\n",
       "\n",
       "    .dataframe tbody tr th {\n",
       "        vertical-align: top;\n",
       "    }\n",
       "</style>\n",
       "<table border=\"1\" class=\"dataframe\">\n",
       "  <thead>\n",
       "    <tr style=\"text-align: right;\">\n",
       "      <th></th>\n",
       "      <th>ABBREV</th>\n",
       "      <th>ABBREV_LEN</th>\n",
       "      <th>ADM0_A3</th>\n",
       "      <th>ADM0_A3_IS</th>\n",
       "      <th>ADM0_A3_UN</th>\n",
       "      <th>ADM0_A3_US</th>\n",
       "      <th>ADM0_A3_WB</th>\n",
       "      <th>ADM0_DIF</th>\n",
       "      <th>ADMIN</th>\n",
       "      <th>BRK_A3</th>\n",
       "      <th>...</th>\n",
       "      <th>UN_A3</th>\n",
       "      <th>WB_A2</th>\n",
       "      <th>WB_A3</th>\n",
       "      <th>WIKIPEDIA</th>\n",
       "      <th>WOE_ID</th>\n",
       "      <th>WOE_ID_EH</th>\n",
       "      <th>WOE_NOTE</th>\n",
       "      <th>featurecla</th>\n",
       "      <th>geometry</th>\n",
       "      <th>scalerank</th>\n",
       "    </tr>\n",
       "  </thead>\n",
       "  <tbody>\n",
       "    <tr>\n",
       "      <th>0</th>\n",
       "      <td>Eng.</td>\n",
       "      <td>4</td>\n",
       "      <td>GBR</td>\n",
       "      <td>-99</td>\n",
       "      <td>-99</td>\n",
       "      <td>GBR</td>\n",
       "      <td>-99</td>\n",
       "      <td>1</td>\n",
       "      <td>United Kingdom</td>\n",
       "      <td>ENG</td>\n",
       "      <td>...</td>\n",
       "      <td>-099</td>\n",
       "      <td>-99</td>\n",
       "      <td>-99</td>\n",
       "      <td>-99</td>\n",
       "      <td>24554868</td>\n",
       "      <td>24554868</td>\n",
       "      <td>Exact WOE match as child of country (called co...</td>\n",
       "      <td>Admin-0 map subunit</td>\n",
       "      <td>(POLYGON ((-6.287505662999905 49.9140078800000...</td>\n",
       "      <td>0</td>\n",
       "    </tr>\n",
       "    <tr>\n",
       "      <th>1</th>\n",
       "      <td>Ire.</td>\n",
       "      <td>4</td>\n",
       "      <td>IRL</td>\n",
       "      <td>IRL</td>\n",
       "      <td>-99</td>\n",
       "      <td>IRL</td>\n",
       "      <td>-99</td>\n",
       "      <td>0</td>\n",
       "      <td>Ireland</td>\n",
       "      <td>IRL</td>\n",
       "      <td>...</td>\n",
       "      <td>372</td>\n",
       "      <td>IE</td>\n",
       "      <td>IRL</td>\n",
       "      <td>-99</td>\n",
       "      <td>23424803</td>\n",
       "      <td>23424803</td>\n",
       "      <td>Exact WOE match as country</td>\n",
       "      <td>Admin-0 map subunit</td>\n",
       "      <td>(POLYGON ((-9.824086066999939 51.6389020850000...</td>\n",
       "      <td>0</td>\n",
       "    </tr>\n",
       "    <tr>\n",
       "      <th>2</th>\n",
       "      <td>N.Ire.</td>\n",
       "      <td>6</td>\n",
       "      <td>GBR</td>\n",
       "      <td>-99</td>\n",
       "      <td>-99</td>\n",
       "      <td>GBR</td>\n",
       "      <td>-99</td>\n",
       "      <td>1</td>\n",
       "      <td>United Kingdom</td>\n",
       "      <td>NIR</td>\n",
       "      <td>...</td>\n",
       "      <td>-099</td>\n",
       "      <td>-99</td>\n",
       "      <td>-99</td>\n",
       "      <td>-99</td>\n",
       "      <td>20070563</td>\n",
       "      <td>20070563</td>\n",
       "      <td>Exact WOE match as child of country (called co...</td>\n",
       "      <td>Admin-0 map subunit</td>\n",
       "      <td>(POLYGON ((-6.440012173999918 55.2360293640000...</td>\n",
       "      <td>0</td>\n",
       "    </tr>\n",
       "    <tr>\n",
       "      <th>3</th>\n",
       "      <td>Scot.</td>\n",
       "      <td>5</td>\n",
       "      <td>GBR</td>\n",
       "      <td>-99</td>\n",
       "      <td>-99</td>\n",
       "      <td>GBR</td>\n",
       "      <td>-99</td>\n",
       "      <td>1</td>\n",
       "      <td>United Kingdom</td>\n",
       "      <td>SCT</td>\n",
       "      <td>...</td>\n",
       "      <td>-099</td>\n",
       "      <td>-99</td>\n",
       "      <td>-99</td>\n",
       "      <td>-99</td>\n",
       "      <td>12578048</td>\n",
       "      <td>12578048</td>\n",
       "      <td>Exact WOE match as child of country (called co...</td>\n",
       "      <td>Admin-0 map subunit</td>\n",
       "      <td>(POLYGON ((-5.11778723899991 55.43976471600014...</td>\n",
       "      <td>0</td>\n",
       "    </tr>\n",
       "    <tr>\n",
       "      <th>4</th>\n",
       "      <td>Wales</td>\n",
       "      <td>5</td>\n",
       "      <td>GBR</td>\n",
       "      <td>-99</td>\n",
       "      <td>-99</td>\n",
       "      <td>GBR</td>\n",
       "      <td>-99</td>\n",
       "      <td>1</td>\n",
       "      <td>United Kingdom</td>\n",
       "      <td>WLS</td>\n",
       "      <td>...</td>\n",
       "      <td>-099</td>\n",
       "      <td>-99</td>\n",
       "      <td>-99</td>\n",
       "      <td>-99</td>\n",
       "      <td>12578049</td>\n",
       "      <td>12578049</td>\n",
       "      <td>Exact WOE match as child of country (called co...</td>\n",
       "      <td>Admin-0 map subunit</td>\n",
       "      <td>(POLYGON ((-4.655669725999871 53.3197695980000...</td>\n",
       "      <td>0</td>\n",
       "    </tr>\n",
       "  </tbody>\n",
       "</table>\n",
       "<p>5 rows × 66 columns</p>\n",
       "</div>"
      ],
      "text/plain": [
       "   ABBREV  ABBREV_LEN ADM0_A3 ADM0_A3_IS  ADM0_A3_UN ADM0_A3_US  ADM0_A3_WB  \\\n",
       "0    Eng.           4     GBR        -99         -99        GBR         -99   \n",
       "1    Ire.           4     IRL        IRL         -99        IRL         -99   \n",
       "2  N.Ire.           6     GBR        -99         -99        GBR         -99   \n",
       "3   Scot.           5     GBR        -99         -99        GBR         -99   \n",
       "4   Wales           5     GBR        -99         -99        GBR         -99   \n",
       "\n",
       "   ADM0_DIF           ADMIN BRK_A3    ...      UN_A3 WB_A2 WB_A3 WIKIPEDIA  \\\n",
       "0         1  United Kingdom    ENG    ...       -099   -99   -99       -99   \n",
       "1         0         Ireland    IRL    ...        372    IE   IRL       -99   \n",
       "2         1  United Kingdom    NIR    ...       -099   -99   -99       -99   \n",
       "3         1  United Kingdom    SCT    ...       -099   -99   -99       -99   \n",
       "4         1  United Kingdom    WLS    ...       -099   -99   -99       -99   \n",
       "\n",
       "     WOE_ID WOE_ID_EH                                           WOE_NOTE  \\\n",
       "0  24554868  24554868  Exact WOE match as child of country (called co...   \n",
       "1  23424803  23424803                         Exact WOE match as country   \n",
       "2  20070563  20070563  Exact WOE match as child of country (called co...   \n",
       "3  12578048  12578048  Exact WOE match as child of country (called co...   \n",
       "4  12578049  12578049  Exact WOE match as child of country (called co...   \n",
       "\n",
       "            featurecla                                           geometry  \\\n",
       "0  Admin-0 map subunit  (POLYGON ((-6.287505662999905 49.9140078800000...   \n",
       "1  Admin-0 map subunit  (POLYGON ((-9.824086066999939 51.6389020850000...   \n",
       "2  Admin-0 map subunit  (POLYGON ((-6.440012173999918 55.2360293640000...   \n",
       "3  Admin-0 map subunit  (POLYGON ((-5.11778723899991 55.43976471600014...   \n",
       "4  Admin-0 map subunit  (POLYGON ((-4.655669725999871 53.3197695980000...   \n",
       "\n",
       "   scalerank  \n",
       "0          0  \n",
       "1          0  \n",
       "2          0  \n",
       "3          0  \n",
       "4          0  \n",
       "\n",
       "[5 rows x 66 columns]"
      ]
     },
     "execution_count": 19,
     "metadata": {},
     "output_type": "execute_result"
    }
   ],
   "source": [
    "data.head()"
   ]
  },
  {
   "cell_type": "code",
   "execution_count": 20,
   "metadata": {},
   "outputs": [
    {
     "data": {
      "text/plain": [
       "{'ENG', 'IRL', 'NIR', 'SCT', 'WLS'}"
      ]
     },
     "execution_count": 20,
     "metadata": {},
     "output_type": "execute_result"
    }
   ],
   "source": [
    "set(data.BRK_A3)"
   ]
  },
  {
   "cell_type": "code",
   "execution_count": 23,
   "metadata": {},
   "outputs": [
    {
     "data": {
      "text/plain": [
       "0    (POLYGON ((-6.287505662999905 49.9140078800000...\n",
       "1    (POLYGON ((-9.824086066999939 51.6389020850000...\n",
       "2    (POLYGON ((-6.440012173999918 55.2360293640000...\n",
       "3    (POLYGON ((-5.11778723899991 55.43976471600014...\n",
       "4    (POLYGON ((-4.655669725999871 53.3197695980000...\n",
       "Name: geometry, dtype: object"
      ]
     },
     "execution_count": 23,
     "metadata": {},
     "output_type": "execute_result"
    }
   ],
   "source": [
    "data.geometry"
   ]
  },
  {
   "cell_type": "code",
   "execution_count": null,
   "metadata": {
    "collapsed": true
   },
   "outputs": [],
   "source": [
    "# I don't think we need anything but BRK_A3 ({'ENG', 'IRL', 'NIR', 'SCT', 'WLS'})\n",
    "# and the geometry?"
   ]
  },
  {
   "cell_type": "code",
   "execution_count": 29,
   "metadata": {},
   "outputs": [
    {
     "data": {
      "text/plain": [
       "0    53013000\n",
       "1     4203200\n",
       "2     1810900\n",
       "3     5254800\n",
       "4           0\n",
       "Name: POP_EST, dtype: int64"
      ]
     },
     "execution_count": 29,
     "metadata": {},
     "output_type": "execute_result"
    }
   ],
   "source": [
    "data.POP_EST"
   ]
  },
  {
   "cell_type": "code",
   "execution_count": 38,
   "metadata": {},
   "outputs": [
    {
     "data": {
      "text/plain": [
       "0       England\n",
       "1       Ireland\n",
       "2    N. Ireland\n",
       "3      Scotland\n",
       "4         Wales\n",
       "Name: BRK_NAME, dtype: object"
      ]
     },
     "execution_count": 38,
     "metadata": {},
     "output_type": "execute_result"
    }
   ],
   "source": [
    "data.BRK_NAME"
   ]
  },
  {
   "cell_type": "code",
   "execution_count": 47,
   "metadata": {
    "collapsed": true
   },
   "outputs": [],
   "source": [
    "export = data[['BRK_A3', 'geometry', 'BRK_NAME']]"
   ]
  },
  {
   "cell_type": "code",
   "execution_count": 53,
   "metadata": {},
   "outputs": [],
   "source": [
    "export.to_file('../public/ukMap.json', driver='GeoJSON')"
   ]
  },
  {
   "cell_type": "code",
   "execution_count": 52,
   "metadata": {},
   "outputs": [
    {
     "data": {
      "text/plain": [
       "{'ARCGEN': 'r',\n",
       " 'AeronavFAA': 'r',\n",
       " 'BNA': 'raw',\n",
       " 'DGN': 'raw',\n",
       " 'DXF': 'raw',\n",
       " 'ESRI Shapefile': 'raw',\n",
       " 'GPKG': 'rw',\n",
       " 'GPSTrackMaker': 'raw',\n",
       " 'GPX': 'raw',\n",
       " 'GeoJSON': 'rw',\n",
       " 'Idrisi': 'r',\n",
       " 'MapInfo File': 'raw',\n",
       " 'OpenFileGDB': 'r',\n",
       " 'PCIDSK': 'r',\n",
       " 'SEGY': 'r',\n",
       " 'SUA': 'r'}"
      ]
     },
     "execution_count": 52,
     "metadata": {},
     "output_type": "execute_result"
    }
   ],
   "source": [
    "import fiona; fiona.supported_drivers"
   ]
  },
  {
   "cell_type": "code",
   "execution_count": null,
   "metadata": {
    "collapsed": true
   },
   "outputs": [],
   "source": []
  }
 ],
 "metadata": {
  "kernelspec": {
   "display_name": "Python 3",
   "language": "python",
   "name": "python3"
  },
  "language_info": {
   "codemirror_mode": {
    "name": "ipython",
    "version": 3
   },
   "file_extension": ".py",
   "mimetype": "text/x-python",
   "name": "python",
   "nbconvert_exporter": "python",
   "pygments_lexer": "ipython3",
   "version": "3.6.1"
  }
 },
 "nbformat": 4,
 "nbformat_minor": 2
}
